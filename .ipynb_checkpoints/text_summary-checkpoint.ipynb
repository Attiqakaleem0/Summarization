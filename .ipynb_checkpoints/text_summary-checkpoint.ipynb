{
 "cells": [
  {
   "cell_type": "code",
   "execution_count": null,
   "id": "1f68d837",
   "metadata": {
    "scrolled": true
   },
   "outputs": [],
   "source": [
    "!pip install -U spacy\n",
    "!python -m spacy download en_core_web_sm     "
   ]
  },
  {
   "cell_type": "code",
   "execution_count": null,
   "id": "2fc99ab4",
   "metadata": {},
   "outputs": [],
   "source": [
    "import spacy\n",
    "from spacy.lang.en.stop_words import STOP_WORDS\n",
    "from string import punctuation"
   ]
  },
  {
   "cell_type": "code",
   "execution_count": null,
   "id": "c409baee",
   "metadata": {},
   "outputs": [],
   "source": [
    "stopwords = list(STOP_WORDS)\n",
    "stopwords"
   ]
  },
  {
   "cell_type": "code",
   "execution_count": null,
   "id": "97f53fa5",
   "metadata": {},
   "outputs": [],
   "source": [
    "nlp = spacy.load('en_core_web_sm')\n"
   ]
  },
  {
   "cell_type": "code",
   "execution_count": null,
   "id": "30581455",
   "metadata": {},
   "outputs": [],
   "source": [
    "text=\"In a village, the landscape transforms when construction endeavors take root. Typically characterized by a close-knit community and serene surroundings, the introduction of construction projects introduces a sense of change and development. Traditional cottages might give way to new structures, often designed to accommodate the evolving needs of the community. The sound of hammers and saws reverberates through the air as skilled craftsmen construct homes, schools, or community centers. The construction process becomes a communal effort, with neighbors offering assistance and sharing in the anticipation of the forthcoming changes.\n",
    "\n",
    "Village construction projects often reflect a blend of modern and traditional architectural elements, seeking a balance between preserving cultural identity and embracing advancements. Materials sourced locally, such as timber and clay, contribute to sustainable building practices. As structures rise from the ground, they become symbols of progress and signify improved living standards. Construction in a village is not merely a physical transformation; it represents a collective aspiration for a better future, enhanced infrastructure, and increased community well-being. It's a harmonious blend of preserving roots while reaching for new heights, weaving the past and present into the fabric of village life.\""
   ]
  },
  {
   "cell_type": "code",
   "execution_count": null,
   "id": "379d4828",
   "metadata": {},
   "outputs": [],
   "source": [
    "doc = nlp(text)\n",
    "#doc"
   ]
  },
  {
   "cell_type": "code",
   "execution_count": null,
   "id": "334e5cce",
   "metadata": {},
   "outputs": [],
   "source": [
    "tokens = [token.text for token in doc]\n",
    "#print(tokens)"
   ]
  },
  {
   "cell_type": "code",
   "execution_count": null,
   "id": "b1cdf506",
   "metadata": {},
   "outputs": [],
   "source": [
    "punctuation = punctuation + '\\n'\n",
    "#punctuation"
   ]
  },
  {
   "cell_type": "code",
   "execution_count": null,
   "id": "d425b21e",
   "metadata": {},
   "outputs": [],
   "source": [
    "word_frequencies = {}\n",
    "for word in doc:\n",
    "  if word.text.lower() not in stopwords:\n",
    "    if word.text.lower() not in punctuation:\n",
    "      if word.text not in word_frequencies.keys():\n",
    "        word_frequencies[word.text] = 1\n",
    "      else:\n",
    "        word_frequencies[word.text] += 1"
   ]
  },
  {
   "cell_type": "code",
   "execution_count": null,
   "id": "616b01ba",
   "metadata": {
    "scrolled": true
   },
   "outputs": [],
   "source": [
    "word_frequencies"
   ]
  },
  {
   "cell_type": "code",
   "execution_count": null,
   "id": "e91f4f97",
   "metadata": {},
   "outputs": [],
   "source": [
    "sentence_tokens = [sent for sent in doc.sents]\n",
    "print(sentence_tokens)"
   ]
  },
  {
   "cell_type": "code",
   "execution_count": null,
   "id": "c7693ed1",
   "metadata": {},
   "outputs": [],
   "source": [
    "sentence_scores = {}\n",
    "for sent in sentence_tokens:\n",
    "  for word in sent:\n",
    "    if word.text.lower() in word_frequencies.keys():\n",
    "      if sent not in sentence_scores.keys():\n",
    "        sentence_scores[sent] = word_frequencies[word.text.lower()]\n",
    "      else:\n",
    "        sentence_scores[sent] += word_frequencies[word.text.lower()]"
   ]
  },
  {
   "cell_type": "code",
   "execution_count": null,
   "id": "75555ead",
   "metadata": {},
   "outputs": [],
   "source": [
    "sentence_scores"
   ]
  },
  {
   "cell_type": "code",
   "execution_count": null,
   "id": "b8574e22",
   "metadata": {},
   "outputs": [],
   "source": [
    "from heapq import nlargest"
   ]
  },
  {
   "cell_type": "code",
   "execution_count": null,
   "id": "a33c96d7",
   "metadata": {},
   "outputs": [],
   "source": [
    "select_length = int(len(sentence_tokens)*0.3)\n",
    "select_length"
   ]
  },
  {
   "cell_type": "code",
   "execution_count": null,
   "id": "317c7432",
   "metadata": {},
   "outputs": [],
   "source": [
    "summary = nlargest(select_length, sentence_scores, key = sentence_scores.get)\n",
    "#summary"
   ]
  },
  {
   "cell_type": "code",
   "execution_count": null,
   "id": "1c11be5d",
   "metadata": {},
   "outputs": [],
   "source": [
    "final_summary = [word.text for word in summary]\n"
   ]
  },
  {
   "cell_type": "code",
   "execution_count": null,
   "id": "21aa732e",
   "metadata": {},
   "outputs": [],
   "source": [
    "summary = ' '.join(final_summary)\n"
   ]
  },
  {
   "cell_type": "code",
   "execution_count": null,
   "id": "b3e01301",
   "metadata": {},
   "outputs": [],
   "source": [
    "print(text)\n"
   ]
  },
  {
   "cell_type": "code",
   "execution_count": null,
   "id": "6856b243",
   "metadata": {
    "scrolled": true
   },
   "outputs": [],
   "source": [
    "print(summary)\n"
   ]
  }
 ],
 "metadata": {
  "kernelspec": {
   "display_name": "Python 3 (ipykernel)",
   "language": "python",
   "name": "python3"
  },
  "language_info": {
   "codemirror_mode": {
    "name": "ipython",
    "version": 3
   },
   "file_extension": ".py",
   "mimetype": "text/x-python",
   "name": "python",
   "nbconvert_exporter": "python",
   "pygments_lexer": "ipython3",
   "version": "3.11.5"
  }
 },
 "nbformat": 4,
 "nbformat_minor": 5
}
